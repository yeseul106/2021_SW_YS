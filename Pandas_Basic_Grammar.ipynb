{
  "nbformat": 4,
  "nbformat_minor": 0,
  "metadata": {
    "colab": {
      "name": "Pandas_Basic_Grammar.ipynb",
      "provenance": [],
      "authorship_tag": "ABX9TyPiZHgpxxJtgGU/PJryNlME",
      "include_colab_link": true
    },
    "kernelspec": {
      "name": "python3",
      "display_name": "Python 3"
    },
    "language_info": {
      "name": "python"
    }
  },
  "cells": [
    {
      "cell_type": "markdown",
      "metadata": {
        "id": "view-in-github",
        "colab_type": "text"
      },
      "source": [
        "<a href=\"https://colab.research.google.com/github/yeseul106/2021_SW_YS/blob/main/Pandas_Basic_Grammar.ipynb\" target=\"_parent\"><img src=\"https://colab.research.google.com/assets/colab-badge.svg\" alt=\"Open In Colab\"/></a>"
      ]
    },
    {
      "cell_type": "code",
      "metadata": {
        "id": "nLXVUhXd1UZB"
      },
      "source": [
        "import numpy as np\n",
        "import pandas as pd"
      ],
      "execution_count": null,
      "outputs": []
    },
    {
      "cell_type": "code",
      "metadata": {
        "colab": {
          "base_uri": "https://localhost:8080/"
        },
        "id": "z-PFuaMO1aqg",
        "outputId": "f99c9659-cd48-49a4-b41a-196a91538d5a"
      },
      "source": [
        "# 구글 드라이브 연결\n",
        "from google.colab import drive\n",
        "drive.mount('/content/drive')"
      ],
      "execution_count": null,
      "outputs": [
        {
          "output_type": "stream",
          "name": "stdout",
          "text": [
            "Mounted at /content/drive\n"
          ]
        }
      ]
    },
    {
      "cell_type": "code",
      "metadata": {
        "colab": {
          "base_uri": "https://localhost:8080/",
          "height": 204
        },
        "id": "Pm1OCEkd1cz3",
        "outputId": "e8427cb0-8bd3-4efe-cec8-5553b373795a"
      },
      "source": [
        "# csv 파일 읽기\n",
        "x1 = pd.read_csv('/content/drive/MyDrive/강의/데이터마이닝 수업/seoul_0.csv', encoding='cp949')\n",
        "x1.head(5)"
      ],
      "execution_count": null,
      "outputs": [
        {
          "output_type": "execute_result",
          "data": {
            "text/html": [
              "<div>\n",
              "<style scoped>\n",
              "    .dataframe tbody tr th:only-of-type {\n",
              "        vertical-align: middle;\n",
              "    }\n",
              "\n",
              "    .dataframe tbody tr th {\n",
              "        vertical-align: top;\n",
              "    }\n",
              "\n",
              "    .dataframe thead th {\n",
              "        text-align: right;\n",
              "    }\n",
              "</style>\n",
              "<table border=\"1\" class=\"dataframe\">\n",
              "  <thead>\n",
              "    <tr style=\"text-align: right;\">\n",
              "      <th></th>\n",
              "      <th>실거래가아이디</th>\n",
              "      <th>시군구코드</th>\n",
              "      <th>자치구명</th>\n",
              "      <th>법정동코드</th>\n",
              "      <th>법정동명</th>\n",
              "      <th>신고년도</th>\n",
              "      <th>건물면적</th>\n",
              "      <th>층정보</th>\n",
              "      <th>건물주용도코드</th>\n",
              "      <th>건물주용도</th>\n",
              "      <th>물건금액</th>\n",
              "      <th>건축년도</th>\n",
              "      <th>건물명</th>\n",
              "      <th>건물명.1</th>\n",
              "    </tr>\n",
              "  </thead>\n",
              "  <tbody>\n",
              "    <tr>\n",
              "      <th>0</th>\n",
              "      <td>11410-2011-4-0000215-1</td>\n",
              "      <td>11410</td>\n",
              "      <td>서대문구</td>\n",
              "      <td>1141011000</td>\n",
              "      <td>북아현동</td>\n",
              "      <td>2011</td>\n",
              "      <td>35.40</td>\n",
              "      <td>4.0</td>\n",
              "      <td>2002</td>\n",
              "      <td>연립주택</td>\n",
              "      <td>233000000</td>\n",
              "      <td>2007.0</td>\n",
              "      <td>(1-86)</td>\n",
              "      <td>(1-86)</td>\n",
              "    </tr>\n",
              "    <tr>\n",
              "      <th>1</th>\n",
              "      <td>11440-2011-4-0010594-1</td>\n",
              "      <td>11440</td>\n",
              "      <td>마포구</td>\n",
              "      <td>1144010400</td>\n",
              "      <td>도화동</td>\n",
              "      <td>2011</td>\n",
              "      <td>84.95</td>\n",
              "      <td>6.0</td>\n",
              "      <td>2001</td>\n",
              "      <td>아파트</td>\n",
              "      <td>430000000</td>\n",
              "      <td>2000.0</td>\n",
              "      <td>현대홈타운</td>\n",
              "      <td>현대홈타운</td>\n",
              "    </tr>\n",
              "    <tr>\n",
              "      <th>2</th>\n",
              "      <td>11410-2011-4-0008933-1</td>\n",
              "      <td>11410</td>\n",
              "      <td>서대문구</td>\n",
              "      <td>1141011700</td>\n",
              "      <td>연희동</td>\n",
              "      <td>2011</td>\n",
              "      <td>16.20</td>\n",
              "      <td>5.0</td>\n",
              "      <td>14202</td>\n",
              "      <td>오피스텔</td>\n",
              "      <td>99000000</td>\n",
              "      <td>2001.0</td>\n",
              "      <td>연희소프트빌</td>\n",
              "      <td>연희소프트빌</td>\n",
              "    </tr>\n",
              "    <tr>\n",
              "      <th>3</th>\n",
              "      <td>11440-2011-4-0010590-1</td>\n",
              "      <td>11440</td>\n",
              "      <td>마포구</td>\n",
              "      <td>1144010100</td>\n",
              "      <td>아현동</td>\n",
              "      <td>2011</td>\n",
              "      <td>53.95</td>\n",
              "      <td>1.0</td>\n",
              "      <td>2002</td>\n",
              "      <td>연립주택</td>\n",
              "      <td>250000000</td>\n",
              "      <td>1976.0</td>\n",
              "      <td>(652-11)</td>\n",
              "      <td>(652-11)</td>\n",
              "    </tr>\n",
              "    <tr>\n",
              "      <th>4</th>\n",
              "      <td>11410-2011-4-0008932-1</td>\n",
              "      <td>11410</td>\n",
              "      <td>서대문구</td>\n",
              "      <td>1141011800</td>\n",
              "      <td>홍은동</td>\n",
              "      <td>2011</td>\n",
              "      <td>247.16</td>\n",
              "      <td>NaN</td>\n",
              "      <td>1001</td>\n",
              "      <td>단독주택</td>\n",
              "      <td>406400000</td>\n",
              "      <td>1986.0</td>\n",
              "      <td>NaN</td>\n",
              "      <td>NaN</td>\n",
              "    </tr>\n",
              "  </tbody>\n",
              "</table>\n",
              "</div>"
            ],
            "text/plain": [
              "                  실거래가아이디  시군구코드  자치구명  ...    건축년도       건물명     건물명.1\n",
              "0  11410-2011-4-0000215-1  11410  서대문구  ...  2007.0    (1-86)    (1-86)\n",
              "1  11440-2011-4-0010594-1  11440   마포구  ...  2000.0     현대홈타운     현대홈타운\n",
              "2  11410-2011-4-0008933-1  11410  서대문구  ...  2001.0    연희소프트빌    연희소프트빌\n",
              "3  11440-2011-4-0010590-1  11440   마포구  ...  1976.0  (652-11)  (652-11)\n",
              "4  11410-2011-4-0008932-1  11410  서대문구  ...  1986.0       NaN       NaN\n",
              "\n",
              "[5 rows x 14 columns]"
            ]
          },
          "metadata": {},
          "execution_count": 5
        }
      ]
    },
    {
      "cell_type": "markdown",
      "metadata": {
        "id": "FD3RSs0m6Wie"
      },
      "source": [
        "# **1) DataFrame 슬라이싱**\n",
        "\n",
        "\n",
        "> **df.loc로 접근**\n",
        "- df.loc는 인덱스와 칼럼의 **'이름'**으로 슬라이싱.\n",
        "- df.loc에 숫자를 하나만 입력할 경우, 해당 행을 접근함.\n",
        "\n",
        "\n",
        "\n",
        "\n"
      ]
    },
    {
      "cell_type": "code",
      "metadata": {
        "colab": {
          "base_uri": "https://localhost:8080/"
        },
        "id": "swVTgX7R1uV9",
        "outputId": "20dfd6b0-823a-471b-ef59-eef0ccc74d33"
      },
      "source": [
        "print(x1.loc[:,'자치구명']) "
      ],
      "execution_count": null,
      "outputs": [
        {
          "output_type": "stream",
          "name": "stdout",
          "text": [
            "0         서대문구\n",
            "1          마포구\n",
            "2         서대문구\n",
            "3          마포구\n",
            "4         서대문구\n",
            "          ... \n",
            "112404     은평구\n",
            "112405     은평구\n",
            "112406     은평구\n",
            "112407     은평구\n",
            "112408     은평구\n",
            "Name: 자치구명, Length: 112409, dtype: object\n"
          ]
        }
      ]
    },
    {
      "cell_type": "code",
      "metadata": {
        "colab": {
          "base_uri": "https://localhost:8080/"
        },
        "id": "-fxKFii77Ste",
        "outputId": "add4af87-b119-4af9-cc87-91b8625829bf"
      },
      "source": [
        "print(x1.loc[1,:]) # 현재 행은 숫자로 이뤄졌기 때문에 숫자로 접근"
      ],
      "execution_count": null,
      "outputs": [
        {
          "output_type": "stream",
          "name": "stdout",
          "text": [
            "실거래가아이디    11440-2011-4-0010594-1\n",
            "시군구코드                       11440\n",
            "자치구명                          마포구\n",
            "법정동코드                  1144010400\n",
            "법정동명                          도화동\n",
            "신고년도                         2011\n",
            "건물면적                        84.95\n",
            "층정보                             6\n",
            "건물주용도코드                      2001\n",
            "건물주용도                         아파트\n",
            "물건금액                    430000000\n",
            "건축년도                         2000\n",
            "건물명                         현대홈타운\n",
            "건물명.1                       현대홈타운\n",
            "Name: 1, dtype: object\n"
          ]
        }
      ]
    },
    {
      "cell_type": "markdown",
      "metadata": {
        "id": "NMACSV8-7HhU"
      },
      "source": [
        "\n",
        "\n",
        "> **df.iloc로 접근**\n",
        "-  numpy의 array 인덱싱 방식으로 가져올 때 사용. 즉, **'index숫자'**로 슬라이싱.\n",
        "\n"
      ]
    },
    {
      "cell_type": "code",
      "metadata": {
        "colab": {
          "base_uri": "https://localhost:8080/"
        },
        "id": "iRZgxE2V3OiQ",
        "outputId": "c6ac93d5-86a8-4d71-ba29-b948049705c5"
      },
      "source": [
        "x1.iloc[:,2] # index값이 2면 '자치구명'"
      ],
      "execution_count": null,
      "outputs": [
        {
          "output_type": "execute_result",
          "data": {
            "text/plain": [
              "0         서대문구\n",
              "1          마포구\n",
              "2         서대문구\n",
              "3          마포구\n",
              "4         서대문구\n",
              "          ... \n",
              "112404     은평구\n",
              "112405     은평구\n",
              "112406     은평구\n",
              "112407     은평구\n",
              "112408     은평구\n",
              "Name: 자치구명, Length: 112409, dtype: object"
            ]
          },
          "metadata": {},
          "execution_count": 10
        }
      ]
    },
    {
      "cell_type": "code",
      "metadata": {
        "colab": {
          "base_uri": "https://localhost:8080/"
        },
        "id": "MDzgt5j49ySk",
        "outputId": "b929b626-c935-49df-a324-bba878d91b53"
      },
      "source": [
        "x1.shape"
      ],
      "execution_count": null,
      "outputs": [
        {
          "output_type": "execute_result",
          "data": {
            "text/plain": [
              "(112409, 14)"
            ]
          },
          "metadata": {},
          "execution_count": 12
        }
      ]
    },
    {
      "cell_type": "markdown",
      "metadata": {
        "id": "OS3BxHG48wVd"
      },
      "source": [
        "\n",
        "\n",
        "> **Boolean으로 인덱싱하기**\n",
        "- 예를 들어 어떤 DataFrame에서 \"year\"의 칼럼 값이 2000보다 큰 값만 인덱싱하고 싶다면, **df.loc[ df [\"year\"] > 2000, : ]** 처럼 사용.\n"
      ]
    },
    {
      "cell_type": "code",
      "metadata": {
        "colab": {
          "base_uri": "https://localhost:8080/"
        },
        "id": "sOCvxU4n4NSi",
        "outputId": "e65d64e6-ef00-4291-b182-fb3c8c7c8d3e"
      },
      "source": [
        "# 건축년도가 0 이상인 데이터만 쓸모있는 데이터\n",
        "x1 = x1.loc[x1[\"건축년도\"]>0,:]\n",
        "print(x1.shape)"
      ],
      "execution_count": null,
      "outputs": [
        {
          "output_type": "stream",
          "name": "stdout",
          "text": [
            "(109757, 14)\n"
          ]
        }
      ]
    },
    {
      "cell_type": "code",
      "metadata": {
        "colab": {
          "base_uri": "https://localhost:8080/"
        },
        "id": "MDxE_rwg91MV",
        "outputId": "a726793b-ff36-41e3-8d19-4de50da2e983"
      },
      "source": [
        "len(x1.loc[x1[\"건축년도\"]<=0,:]) # 잘 슬라이싱 한 것을 확인"
      ],
      "execution_count": null,
      "outputs": [
        {
          "output_type": "execute_result",
          "data": {
            "text/plain": [
              "0"
            ]
          },
          "metadata": {},
          "execution_count": 16
        }
      ]
    },
    {
      "cell_type": "code",
      "metadata": {
        "colab": {
          "base_uri": "https://localhost:8080/",
          "height": 204
        },
        "id": "Rlubd7Gu-DMo",
        "outputId": "55cdfd5c-853b-4c03-fb9b-4b524f27107c"
      },
      "source": [
        "x1.head(5)"
      ],
      "execution_count": null,
      "outputs": [
        {
          "output_type": "execute_result",
          "data": {
            "text/html": [
              "<div>\n",
              "<style scoped>\n",
              "    .dataframe tbody tr th:only-of-type {\n",
              "        vertical-align: middle;\n",
              "    }\n",
              "\n",
              "    .dataframe tbody tr th {\n",
              "        vertical-align: top;\n",
              "    }\n",
              "\n",
              "    .dataframe thead th {\n",
              "        text-align: right;\n",
              "    }\n",
              "</style>\n",
              "<table border=\"1\" class=\"dataframe\">\n",
              "  <thead>\n",
              "    <tr style=\"text-align: right;\">\n",
              "      <th></th>\n",
              "      <th>실거래가아이디</th>\n",
              "      <th>시군구코드</th>\n",
              "      <th>자치구명</th>\n",
              "      <th>법정동코드</th>\n",
              "      <th>법정동명</th>\n",
              "      <th>신고년도</th>\n",
              "      <th>건물면적</th>\n",
              "      <th>층정보</th>\n",
              "      <th>건물주용도코드</th>\n",
              "      <th>건물주용도</th>\n",
              "      <th>물건금액</th>\n",
              "      <th>건축년도</th>\n",
              "      <th>건물명</th>\n",
              "      <th>건물명.1</th>\n",
              "    </tr>\n",
              "  </thead>\n",
              "  <tbody>\n",
              "    <tr>\n",
              "      <th>0</th>\n",
              "      <td>11410-2011-4-0000215-1</td>\n",
              "      <td>11410</td>\n",
              "      <td>서대문구</td>\n",
              "      <td>1141011000</td>\n",
              "      <td>북아현동</td>\n",
              "      <td>2011</td>\n",
              "      <td>35.40</td>\n",
              "      <td>4.0</td>\n",
              "      <td>2002</td>\n",
              "      <td>연립주택</td>\n",
              "      <td>233000000</td>\n",
              "      <td>2007.0</td>\n",
              "      <td>(1-86)</td>\n",
              "      <td>(1-86)</td>\n",
              "    </tr>\n",
              "    <tr>\n",
              "      <th>1</th>\n",
              "      <td>11440-2011-4-0010594-1</td>\n",
              "      <td>11440</td>\n",
              "      <td>마포구</td>\n",
              "      <td>1144010400</td>\n",
              "      <td>도화동</td>\n",
              "      <td>2011</td>\n",
              "      <td>84.95</td>\n",
              "      <td>6.0</td>\n",
              "      <td>2001</td>\n",
              "      <td>아파트</td>\n",
              "      <td>430000000</td>\n",
              "      <td>2000.0</td>\n",
              "      <td>현대홈타운</td>\n",
              "      <td>현대홈타운</td>\n",
              "    </tr>\n",
              "    <tr>\n",
              "      <th>2</th>\n",
              "      <td>11410-2011-4-0008933-1</td>\n",
              "      <td>11410</td>\n",
              "      <td>서대문구</td>\n",
              "      <td>1141011700</td>\n",
              "      <td>연희동</td>\n",
              "      <td>2011</td>\n",
              "      <td>16.20</td>\n",
              "      <td>5.0</td>\n",
              "      <td>14202</td>\n",
              "      <td>오피스텔</td>\n",
              "      <td>99000000</td>\n",
              "      <td>2001.0</td>\n",
              "      <td>연희소프트빌</td>\n",
              "      <td>연희소프트빌</td>\n",
              "    </tr>\n",
              "    <tr>\n",
              "      <th>3</th>\n",
              "      <td>11440-2011-4-0010590-1</td>\n",
              "      <td>11440</td>\n",
              "      <td>마포구</td>\n",
              "      <td>1144010100</td>\n",
              "      <td>아현동</td>\n",
              "      <td>2011</td>\n",
              "      <td>53.95</td>\n",
              "      <td>1.0</td>\n",
              "      <td>2002</td>\n",
              "      <td>연립주택</td>\n",
              "      <td>250000000</td>\n",
              "      <td>1976.0</td>\n",
              "      <td>(652-11)</td>\n",
              "      <td>(652-11)</td>\n",
              "    </tr>\n",
              "    <tr>\n",
              "      <th>4</th>\n",
              "      <td>11410-2011-4-0008932-1</td>\n",
              "      <td>11410</td>\n",
              "      <td>서대문구</td>\n",
              "      <td>1141011800</td>\n",
              "      <td>홍은동</td>\n",
              "      <td>2011</td>\n",
              "      <td>247.16</td>\n",
              "      <td>NaN</td>\n",
              "      <td>1001</td>\n",
              "      <td>단독주택</td>\n",
              "      <td>406400000</td>\n",
              "      <td>1986.0</td>\n",
              "      <td>NaN</td>\n",
              "      <td>NaN</td>\n",
              "    </tr>\n",
              "  </tbody>\n",
              "</table>\n",
              "</div>"
            ],
            "text/plain": [
              "                  실거래가아이디  시군구코드  자치구명  ...    건축년도       건물명     건물명.1\n",
              "0  11410-2011-4-0000215-1  11410  서대문구  ...  2007.0    (1-86)    (1-86)\n",
              "1  11440-2011-4-0010594-1  11440   마포구  ...  2000.0     현대홈타운     현대홈타운\n",
              "2  11410-2011-4-0008933-1  11410  서대문구  ...  2001.0    연희소프트빌    연희소프트빌\n",
              "3  11440-2011-4-0010590-1  11440   마포구  ...  1976.0  (652-11)  (652-11)\n",
              "4  11410-2011-4-0008932-1  11410  서대문구  ...  1986.0       NaN       NaN\n",
              "\n",
              "[5 rows x 14 columns]"
            ]
          },
          "metadata": {},
          "execution_count": 17
        }
      ]
    },
    {
      "cell_type": "code",
      "metadata": {
        "id": "pCuDgEGX-W_S"
      },
      "source": [
        "year = np.array(x1[\"건축년도\"])\n",
        "price = np.array(x1[\"물건금액\"])"
      ],
      "execution_count": null,
      "outputs": []
    },
    {
      "cell_type": "markdown",
      "metadata": {
        "id": "OYW9qfsgAVod"
      },
      "source": [
        "# **2) matplotlib를 이용하여 그래프 그리기**\n",
        "\n",
        "\n",
        "\n",
        "> **산점도 그리기**\n",
        "- 산점도 : x, y축으로 이뤄진 좌표계에 두 변수(x,y)의 관계를 표현하는 방법.\n",
        "- ***plt.scatter( x좌표, y좌표 )*** 로 구현할 수 있음.\n",
        "\n"
      ]
    },
    {
      "cell_type": "code",
      "metadata": {
        "colab": {
          "base_uri": "https://localhost:8080/",
          "height": 290
        },
        "id": "8bY6wXTR-nzv",
        "outputId": "56849e0f-85a5-4757-a981-7da94ba87217"
      },
      "source": [
        "import matplotlib.pyplot as plt\n",
        "\n",
        "plt.scatter(year, price)\n",
        "plt.xlabel('year')\n",
        "plt.ylabel('price')\n",
        "plt.show()"
      ],
      "execution_count": null,
      "outputs": [
        {
          "output_type": "display_data",
          "data": {
            "image/png": "[encoded data removed]",
            "text/plain": [
              "<Figure size 432x288 with 1 Axes>"
            ]
          },
          "metadata": {
            "needs_background": "light"
          }
        }
      ]
    },
    {
      "cell_type": "markdown",
      "metadata": {
        "id": "WkLlYbmRBX8l"
      },
      "source": [
        "***그래프 크기는 figsize 옵션 지정***\n",
        "- plt.figure(figsize=( x사이즈, y사이즈 )"
      ]
    },
    {
      "cell_type": "code",
      "metadata": {
        "colab": {
          "base_uri": "https://localhost:8080/",
          "height": 508
        },
        "id": "f6RQ1C4TBTMx",
        "outputId": "0e7229ad-6ce7-4204-80a6-95b360d88870"
      },
      "source": [
        "plt.figure(figsize=(10,8))\n",
        "plt.scatter(year, price)\n",
        "plt.xlabel('year')\n",
        "plt.ylabel('price')\n",
        "plt.show()"
      ],
      "execution_count": null,
      "outputs": [
        {
          "output_type": "display_data",
          "data": {
            "image/png": "[encoded data removed]",
            "text/plain": [
              "<Figure size 720x576 with 1 Axes>"
            ]
          },
          "metadata": {
            "needs_background": "light"
          }
        }
      ]
    },
    {
      "cell_type": "code",
      "metadata": {
        "id": "JbG9sQV8B9Qf"
      },
      "source": [
        ""
      ],
      "execution_count": null,
      "outputs": []
    }
  ]
}